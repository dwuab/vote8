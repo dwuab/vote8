{
 "metadata": {
  "name": "vote13"
 },
 "nbformat": 3,
 "nbformat_minor": 0,
 "worksheets": [
  {
   "cells": [
    {
     "cell_type": "code",
     "collapsed": false,
     "input": [
      "cd ~/Dropbox/data/vote/data13"
     ],
     "language": "python",
     "metadata": {},
     "outputs": [
      {
       "output_type": "stream",
       "stream": "stdout",
       "text": [
        "/Users/wudegang/Dropbox/data/vote/data13\n"
       ]
      }
     ],
     "prompt_number": 1
    },
    {
     "cell_type": "code",
     "collapsed": false,
     "input": [
      "import pandas as pd\n",
      "from pandas import DataFrame,Series\n",
      "from scipy.stats import gaussian_kde\n",
      "from statsmodels.distributions.empirical_distribution import ECDF"
     ],
     "language": "python",
     "metadata": {},
     "outputs": [],
     "prompt_number": 2
    },
    {
     "cell_type": "code",
     "collapsed": false,
     "input": [
      "ls"
     ],
     "language": "python",
     "metadata": {},
     "outputs": [
      {
       "output_type": "stream",
       "stream": "stdout",
       "text": [
        "\u001b[34mDebug\u001b[m\u001b[m/                                N1800_K_1800_p_0.310_eta_10_stat.dat\r\n",
        "N1200_K_1200_p_0.250_eta_10_T.dat     N900_K_900_p_0.250_eta_10_T.dat\r\n",
        "N1200_K_1200_p_0.250_eta_10_stat.dat  N900_K_900_p_0.250_eta_10_stat.dat\r\n",
        "N1200_K_1200_p_0.260_eta_10_T.dat     N900_K_900_p_0.260_eta_10_T.dat\r\n",
        "N1200_K_1200_p_0.260_eta_10_stat.dat  N900_K_900_p_0.260_eta_10_stat.dat\r\n",
        "N1200_K_1200_p_0.270_eta_10_T.dat     N900_K_900_p_0.270_eta_10_T.dat\r\n",
        "N1200_K_1200_p_0.270_eta_10_stat.dat  N900_K_900_p_0.270_eta_10_stat.dat\r\n",
        "N1200_K_1200_p_0.280_eta_10_T.dat     N900_K_900_p_0.280_eta_10_T.dat\r\n",
        "N1200_K_1200_p_0.280_eta_10_stat.dat  N900_K_900_p_0.280_eta_10_stat.dat\r\n",
        "N1200_K_1200_p_0.290_eta_10_T.dat     N900_K_900_p_0.290_eta_10_T.dat\r\n",
        "N1200_K_1200_p_0.290_eta_10_stat.dat  N900_K_900_p_0.290_eta_10_stat.dat\r\n",
        "N1200_K_1200_p_0.300_eta_10_T.dat     N900_K_900_p_0.295_eta_10_T.dat\r\n",
        "N1200_K_1200_p_0.300_eta_10_stat.dat  N900_K_900_p_0.295_eta_10_stat.dat\r\n",
        "N1200_K_1200_p_0.310_eta_10_T.dat     N900_K_900_p_0.296_eta_10_T.dat\r\n",
        "N1200_K_1200_p_0.310_eta_10_stat.dat  N900_K_900_p_0.296_eta_10_stat.dat\r\n",
        "N1500_K_1500_p_0.250_eta_10_T.dat     N900_K_900_p_0.297_eta_10_T.dat\r\n",
        "N1500_K_1500_p_0.250_eta_10_stat.dat  N900_K_900_p_0.297_eta_10_stat.dat\r\n",
        "N1500_K_1500_p_0.260_eta_10_T.dat     N900_K_900_p_0.298_eta_10_T.dat\r\n",
        "N1500_K_1500_p_0.260_eta_10_stat.dat  N900_K_900_p_0.298_eta_10_stat.dat\r\n",
        "N1500_K_1500_p_0.270_eta_10_T.dat     N900_K_900_p_0.299_eta_10_T.dat\r\n",
        "N1500_K_1500_p_0.270_eta_10_stat.dat  N900_K_900_p_0.299_eta_10_stat.dat\r\n",
        "N1500_K_1500_p_0.280_eta_10_T.dat     N900_K_900_p_0.300_eta_10_T.dat\r\n",
        "N1500_K_1500_p_0.280_eta_10_stat.dat  N900_K_900_p_0.300_eta_10_stat.dat\r\n",
        "N1500_K_1500_p_0.290_eta_10_T.dat     N900_K_900_p_0.310_eta_10_T.dat\r\n",
        "N1500_K_1500_p_0.290_eta_10_stat.dat  N900_K_900_p_0.310_eta_10_stat.dat\r\n",
        "N1500_K_1500_p_0.300_eta_10_T.dat     N900_K_900_p_0.320_eta_10_T.dat\r\n",
        "N1500_K_1500_p_0.300_eta_10_stat.dat  N900_K_900_p_0.320_eta_10_stat.dat\r\n",
        "N1500_K_1500_p_0.310_eta_10_T.dat     N900_K_900_p_0.330_eta_10_T.dat\r\n",
        "N1500_K_1500_p_0.310_eta_10_stat.dat  N900_K_900_p_0.330_eta_10_stat.dat\r\n",
        "N1800_K_1800_p_0.250_eta_10_T.dat     N900_K_900_p_0.340_eta_10_T.dat\r\n",
        "N1800_K_1800_p_0.250_eta_10_stat.dat  N900_K_900_p_0.340_eta_10_stat.dat\r\n",
        "N1800_K_1800_p_0.260_eta_10_T.dat     N900_K_900_p_0.350_eta_10_T.dat\r\n",
        "N1800_K_1800_p_0.260_eta_10_stat.dat  N900_K_900_p_0.350_eta_10_stat.dat\r\n",
        "N1800_K_1800_p_0.270_eta_10_T.dat     N900_K_900_p_0.500_eta_10_T.dat\r\n",
        "N1800_K_1800_p_0.270_eta_10_stat.dat  N900_K_900_p_0.500_eta_10_stat.dat\r\n",
        "N1800_K_1800_p_0.280_eta_10_T.dat     N900_K_900_p_0.510_eta_10_T.dat\r\n",
        "N1800_K_1800_p_0.280_eta_10_stat.dat  N900_K_900_p_0.510_eta_10_stat.dat\r\n",
        "N1800_K_1800_p_0.290_eta_10_T.dat     N900_K_900_p_0.960_eta_10_T.dat\r\n",
        "N1800_K_1800_p_0.290_eta_10_stat.dat  \u001b[34mRelease\u001b[m\u001b[m/\r\n",
        "N1800_K_1800_p_0.300_eta_10_T.dat     p_0.29.dat\r\n",
        "N1800_K_1800_p_0.300_eta_10_stat.dat  vote13.cpp\r\n",
        "N1800_K_1800_p_0.310_eta_10_T.dat     vote13.cpp~\r\n"
       ]
      }
     ],
     "prompt_number": 3
    },
    {
     "cell_type": "code",
     "collapsed": false,
     "input": [
      "# not a good idea\n",
      "figure()\n",
      "df=pd.read_table('N900_K_900_p_0.310_eta_10_T.dat',header=None)\n",
      "df.columns=['T']\n",
      "density = gaussian_kde(df['T'])\n",
      "xs = np.linspace(0,250,250)\n",
      "density.covariance_factor = lambda : .25\n",
      "density._compute_covariance()\n",
      "plt.plot(xs,density(xs))\n",
      "plt.show()"
     ],
     "language": "python",
     "metadata": {},
     "outputs": [],
     "prompt_number": 17
    },
    {
     "cell_type": "code",
     "collapsed": false,
     "input": [
      "# not a good idea\n",
      "figure()\n",
      "df=pd.read_table('N900_K_900_p_0.290_eta_10_T.dat',header=None)\n",
      "df.columns=['T']\n",
      "density = gaussian_kde(df['T'])\n",
      "xs = np.linspace(0,20000,20001)\n",
      "plt.plot(xs,density(xs))\n",
      "plt.show()"
     ],
     "language": "python",
     "metadata": {},
     "outputs": [],
     "prompt_number": 26
    },
    {
     "cell_type": "code",
     "collapsed": false,
     "input": [
      "df=pd.read_table('N900_K_900_p_0.300_eta_10_T.dat',header=None)\n",
      "df.columns=['T']\n",
      "fig=figure()\n",
      "ax=fig.gca()\n",
      "hist(df['T'],normed=True,log=False,bins=100,histtype='step',range=[0,1000]);\n",
      "plt.xlabel('$t$',fontsize=18)\n",
      "plt.ylabel('$P_N(t)$',fontsize=18)\n",
      "plt.ylim([2e-5,0.03])\n",
      "plt.subplots_adjust(left=0.12, right=0.95, top=0.95, bottom=0.1)\n",
      "ax.set_yscale('log')\n",
      "ax.annotate('$t=10$', xy=(20, 0.027),  xycoords='data',\n",
      "                xytext=(50, -30), textcoords='offset points',\n",
      "                arrowprops=dict(arrowstyle=\"->\"),fontsize=16\n",
      "                )\n",
      "ax.annotate('$t=60$', xy=(70, 0.002),  xycoords='data',\n",
      "                xytext=(50, 0), textcoords='offset points',\n",
      "                arrowprops=dict(arrowstyle=\"->\"),fontsize=16\n",
      "                )\n",
      "#for tick in ax.xaxis.get_major_ticks():\n",
      "#    tick.label.set_fontsize(16) \n",
      "#for tick in ax.yaxis.get_major_ticks():\n",
      "#    tick.label.set_fontsize(16) "
     ],
     "language": "python",
     "metadata": {},
     "outputs": [
      {
       "output_type": "pyout",
       "prompt_number": 28,
       "text": [
        "<matplotlib.text.Annotation at 0x10f4993d0>"
       ]
      }
     ],
     "prompt_number": 28
    },
    {
     "cell_type": "code",
     "collapsed": false,
     "input": [
      "df=pd.read_table('N900_K_900_p_0.500_eta_10_T.dat',header=None)\n",
      "df.columns=['T']\n",
      "fig=figure()\n",
      "ax=fig.gca()\n",
      "hist(df['T'],normed=True,log=False,bins=80,histtype='step');\n",
      "plt.xlabel('$t$',fontsize=18)\n",
      "plt.ylabel('$P_N(t)$',fontsize=18)\n",
      "plt.ylim([1e-2,1])\n",
      "plt.subplots_adjust(left=0.12, right=0.95, top=0.95, bottom=0.1)"
     ],
     "language": "python",
     "metadata": {},
     "outputs": [],
     "prompt_number": 25
    },
    {
     "cell_type": "code",
     "collapsed": false,
     "input": [
      "df=pd.read_table('N900_K_900_p_0.960_eta_10_T.dat',header=None)\n",
      "df.columns=['T']\n",
      "fig=figure()\n",
      "ax=fig.gca()\n",
      "hist(df['T'],normed=True,log=False,bins=80,histtype='step');\n",
      "plt.xlabel('$t$',fontsize=18)\n",
      "plt.ylabel('$P_N(t)$',fontsize=18)\n",
      "plt.ylim([1e-7,1e-1])\n",
      "plt.subplots_adjust(left=0.12, right=0.95, top=0.95, bottom=0.1)"
     ],
     "language": "python",
     "metadata": {},
     "outputs": [],
     "prompt_number": 26
    },
    {
     "cell_type": "code",
     "collapsed": false,
     "input": [
      "%cd ~/Dropbox/data/vote/data7\n",
      "ecdf0300_c2=ECDF(np.loadtxt('N900_p_0.300_eta_10_T.dat'))\n",
      "ecdf0500_c2=ECDF(np.loadtxt('N900_p_0.500_eta_10_T.dat'))\n",
      "ecdf0960_c2=ECDF(np.loadtxt('N900_p_0.960_eta_10_T.dat'))\n",
      "%cd ~/Dropbox/data/vote/data13/\n",
      "ecdf0300_c3=ECDF(np.loadtxt('N900_K_900_p_0.300_eta_10_T.dat'))\n",
      "ecdf0500_c3=ECDF(np.loadtxt('N900_K_900_p_0.500_eta_10_T.dat'))\n",
      "ecdf0960_c3=ECDF(np.loadtxt('N900_K_900_p_0.960_eta_10_T.dat'))"
     ],
     "language": "python",
     "metadata": {},
     "outputs": [
      {
       "output_type": "stream",
       "stream": "stdout",
       "text": [
        "/Users/wudegang/Dropbox/data/vote/data7\n",
        "/Users/wudegang/Dropbox/data/vote/data13"
       ]
      },
      {
       "output_type": "stream",
       "stream": "stdout",
       "text": [
        "\n"
       ]
      }
     ],
     "prompt_number": 27
    },
    {
     "cell_type": "code",
     "collapsed": false,
     "input": [
      "x=arange(0,1000)\n",
      "plot(x,ecdf0300_c2(x),'b-',linewidth=3)\n",
      "hold(True)\n",
      "plot(x,ecdf0500_c2(x),'g--',linewidth=3)\n",
      "plot(x,ecdf0960_c2(x),'r:',linewidth=3)\n",
      "plot(x,ecdf0300_c3(x),'bo-',markevery=10)\n",
      "plot(x,ecdf0500_c3(x),'gs--')\n",
      "plot(x,ecdf0960_c3(x),'rx:',markevery=10)\n",
      "legend(['p=0.3 2 state','p=0.5, 2 state','p=0.96, 2 state','p=0.3 3 state','p=0.5, 3 state','p=0.96, 3 state'],loc=4)\n",
      "xlim([5,1000])\n",
      "xlabel('$t$',fontsize=16)\n",
      "ylabel('$\\mathrm{ECDF}$',fontsize=16)\n",
      "plt.subplots_adjust(left=0.08, right=0.98, top=0.95, bottom=0.1)"
     ],
     "language": "python",
     "metadata": {},
     "outputs": [],
     "prompt_number": 38
    },
    {
     "cell_type": "code",
     "collapsed": false,
     "input": [
      "ecdf0960_c2(1000)"
     ],
     "language": "python",
     "metadata": {},
     "outputs": [
      {
       "output_type": "pyout",
       "prompt_number": 177,
       "text": [
        "1.0"
       ]
      }
     ],
     "prompt_number": 177
    },
    {
     "cell_type": "code",
     "collapsed": false,
     "input": [
      "%cd ~/Dropbox/data/vote/data13\n",
      "ecdf0290_eta10=ECDF(np.loadtxt('p_0.29.dat'))"
     ],
     "language": "python",
     "metadata": {},
     "outputs": [
      {
       "output_type": "stream",
       "stream": "stdout",
       "text": [
        "/Users/wudegang/Dropbox/data/vote/data13\n"
       ]
      }
     ],
     "prompt_number": 151
    },
    {
     "cell_type": "code",
     "collapsed": false,
     "input": [
      "x=arange(0,20000)\n",
      "plot(x,ecdf0290_eta10(x))"
     ],
     "language": "python",
     "metadata": {},
     "outputs": [
      {
       "output_type": "pyout",
       "prompt_number": 156,
       "text": [
        "[<matplotlib.lines.Line2D at 0x116b00dd0>]"
       ]
      }
     ],
     "prompt_number": 156
    },
    {
     "cell_type": "code",
     "collapsed": false,
     "input": [
      "hist(df['T'],normed=True,log=False,bins=100,histtype='step',range=[0,1000])"
     ],
     "language": "python",
     "metadata": {},
     "outputs": [
      {
       "output_type": "pyout",
       "prompt_number": 4,
       "text": [
        "(array([  1.00558805e-07,   2.70618829e-02,   2.01133700e-02,\n",
        "         5.02130338e-03,   2.68170222e-03,   2.17991378e-03,\n",
        "         1.97919841e-03,   1.89583516e-03,   1.80643838e-03,\n",
        "         1.72609189e-03,   1.65801358e-03,   1.55775645e-03,\n",
        "         1.47097420e-03,   1.40058304e-03,   1.36267237e-03,\n",
        "         1.28886221e-03,   1.23405766e-03,   1.18568887e-03,\n",
        "         1.13339829e-03,   1.06964401e-03,   1.02539814e-03,\n",
        "         9.82962322e-04,   9.41230417e-04,   8.99196837e-04,\n",
        "         8.51632522e-04,   8.10101735e-04,   7.84459240e-04,\n",
        "         7.43934041e-04,   7.07028960e-04,   6.66101526e-04,\n",
        "         6.38447855e-04,   6.22056769e-04,   5.95810921e-04,\n",
        "         5.61118133e-04,   5.42615313e-04,   5.07821967e-04,\n",
        "         5.07319173e-04,   4.71218562e-04,   4.40347008e-04,\n",
        "         4.34313480e-04,   4.11084396e-04,   3.89363694e-04,\n",
        "         3.70961433e-04,   3.36469762e-04,   3.34156910e-04,\n",
        "         3.22492089e-04,   3.18268619e-04,   2.97553505e-04,\n",
        "         2.84581419e-04,   2.64469658e-04,   2.51698690e-04,\n",
        "         2.40637221e-04,   2.32491958e-04,   2.13486344e-04,\n",
        "         2.11877403e-04,   2.06145551e-04,   1.95285200e-04,\n",
        "         1.85631555e-04,   1.79799144e-04,   1.68033764e-04,\n",
        "         1.62000235e-04,   1.58882912e-04,   1.44301886e-04,\n",
        "         1.41989033e-04,   1.32938741e-04,   1.30223653e-04,\n",
        "         1.19162184e-04,   1.16949891e-04,   1.09910774e-04,\n",
        "         1.08603510e-04,   1.02972217e-04,   8.87934251e-05,\n",
        "         9.61342178e-05,   8.71844842e-05,   8.56761021e-05,\n",
        "         8.35643672e-05,   7.69274860e-05,   7.41118395e-05,\n",
        "         6.93855756e-05,   6.50615470e-05,   6.79777524e-05,\n",
        "         6.03352832e-05,   5.63129310e-05,   5.47039901e-05,\n",
        "         5.42011960e-05,   5.28939316e-05,   4.89721382e-05,\n",
        "         4.89721382e-05,   4.29386099e-05,   4.60559328e-05,\n",
        "         4.20335806e-05,   3.91173753e-05,   3.48939054e-05,\n",
        "         3.40894350e-05,   3.70056403e-05,   3.21788177e-05,\n",
        "         3.04693180e-05,   2.81564655e-05,   2.93631711e-05,\n",
        "         2.94637299e-05]),\n",
        " array([    0.,    10.,    20.,    30.,    40.,    50.,    60.,    70.,\n",
        "          80.,    90.,   100.,   110.,   120.,   130.,   140.,   150.,\n",
        "         160.,   170.,   180.,   190.,   200.,   210.,   220.,   230.,\n",
        "         240.,   250.,   260.,   270.,   280.,   290.,   300.,   310.,\n",
        "         320.,   330.,   340.,   350.,   360.,   370.,   380.,   390.,\n",
        "         400.,   410.,   420.,   430.,   440.,   450.,   460.,   470.,\n",
        "         480.,   490.,   500.,   510.,   520.,   530.,   540.,   550.,\n",
        "         560.,   570.,   580.,   590.,   600.,   610.,   620.,   630.,\n",
        "         640.,   650.,   660.,   670.,   680.,   690.,   700.,   710.,\n",
        "         720.,   730.,   740.,   750.,   760.,   770.,   780.,   790.,\n",
        "         800.,   810.,   820.,   830.,   840.,   850.,   860.,   870.,\n",
        "         880.,   890.,   900.,   910.,   920.,   930.,   940.,   950.,\n",
        "         960.,   970.,   980.,   990.,  1000.]),\n",
        " <a list of 1 Patch objects>)"
       ]
      }
     ],
     "prompt_number": 4
    },
    {
     "cell_type": "code",
     "collapsed": false,
     "input": [],
     "language": "python",
     "metadata": {},
     "outputs": []
    }
   ],
   "metadata": {}
  }
 ]
}