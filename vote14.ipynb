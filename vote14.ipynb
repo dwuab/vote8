{
 "metadata": {
  "name": "vote14"
 },
 "nbformat": 3,
 "nbformat_minor": 0,
 "worksheets": [
  {
   "cells": [
    {
     "cell_type": "code",
     "collapsed": false,
     "input": [
      "# use your own data directory\n",
      "cd ~/Dropbox/dev/vote14"
     ],
     "language": "python",
     "metadata": {},
     "outputs": [
      {
       "output_type": "stream",
       "stream": "stdout",
       "text": [
        "/Users/wudegang/Dropbox/dev/vote14\n"
       ]
      }
     ],
     "prompt_number": 1
    },
    {
     "cell_type": "code",
     "collapsed": false,
     "input": [
      "from pandas import DataFrame, Series\n",
      "import pandas as pd\n",
      "from statsmodels.distributions.empirical_distribution import ECDF"
     ],
     "language": "python",
     "metadata": {},
     "outputs": [],
     "prompt_number": 12
    },
    {
     "cell_type": "code",
     "collapsed": false,
     "input": [
      "ls"
     ],
     "language": "python",
     "metadata": {},
     "outputs": [
      {
       "output_type": "stream",
       "stream": "stdout",
       "text": [
        "\u001b[34mDebug\u001b[m\u001b[m/                              N900_K_900_p_0.330_eta_10_stat.dat  N900_K_900_p_0.520_eta_10_stat.dat\r\n",
        "N900_K_900_p_0.290_eta_10_T3.dat    N900_K_900_p_0.340_eta_10_T3.dat    N900_K_900_p_0.530_eta_10_T3.dat\r\n",
        "N900_K_900_p_0.290_eta_10_stat.dat  N900_K_900_p_0.340_eta_10_stat.dat  N900_K_900_p_0.530_eta_10_stat.dat\r\n",
        "N900_K_900_p_0.310_eta_10_T3.dat    N900_K_900_p_0.490_eta_10_T3.dat    N900_K_900_p_0.540_eta_10_T3.dat\r\n",
        "N900_K_900_p_0.310_eta_10_stat.dat  N900_K_900_p_0.490_eta_10_stat.dat  N900_K_900_p_0.540_eta_10_stat.dat\r\n",
        "N900_K_900_p_0.320_eta_10_T3.dat    N900_K_900_p_0.510_eta_10_T3.dat    vote14.cpp\r\n",
        "N900_K_900_p_0.320_eta_10_stat.dat  N900_K_900_p_0.510_eta_10_stat.dat\r\n",
        "N900_K_900_p_0.330_eta_10_T3.dat    N900_K_900_p_0.520_eta_10_T3.dat\r\n"
       ]
      }
     ],
     "prompt_number": 2
    },
    {
     "cell_type": "code",
     "collapsed": false,
     "input": [
      "df=pd.read_table('N900_K_900_p_0.290_eta_10_T3.dat',header=None)\n",
      "df2=pd.read_table('N900_K_900_p_0.290_eta_10_stat.dat',header=None)"
     ],
     "language": "python",
     "metadata": {},
     "outputs": [],
     "prompt_number": 7
    },
    {
     "cell_type": "code",
     "collapsed": false,
     "input": [
      "ecdf0290=ECDF(np.loadtxt('N900_K_900_p_0.290_eta_10_T3.dat'))"
     ],
     "language": "python",
     "metadata": {},
     "outputs": [],
     "prompt_number": 14
    },
    {
     "cell_type": "code",
     "collapsed": false,
     "input": [
      "x=arange(0,25,0.1)\n",
      "plot(x,ecdf0290(x))"
     ],
     "language": "python",
     "metadata": {},
     "outputs": [
      {
       "output_type": "pyout",
       "prompt_number": 18,
       "text": [
        "[<matplotlib.lines.Line2D at 0x10fdec2d0>]"
       ]
      }
     ],
     "prompt_number": 18
    },
    {
     "cell_type": "code",
     "collapsed": false,
     "input": [
      "stat=np.loadtxt('N900_K_900_p_0.290_eta_10_stat.dat')"
     ],
     "language": "python",
     "metadata": {},
     "outputs": [],
     "prompt_number": 22
    },
    {
     "cell_type": "code",
     "collapsed": false,
     "input": [
      "for i in range(len(stat)):\n",
      "    stat[i,:].sort()"
     ],
     "language": "python",
     "metadata": {},
     "outputs": [],
     "prompt_number": 38
    },
    {
     "cell_type": "code",
     "collapsed": false,
     "input": [
      "stat"
     ],
     "language": "python",
     "metadata": {},
     "outputs": [
      {
       "output_type": "pyout",
       "prompt_number": 39,
       "text": [
        "array([[   0.,  163.,  737.],\n",
        "       [   0.,  394.,  506.],\n",
        "       [   0.,  251.,  649.],\n",
        "       ..., \n",
        "       [   0.,  418.,  482.],\n",
        "       [   0.,  113.,  787.],\n",
        "       [   0.,  324.,  576.]])"
       ]
      }
     ],
     "prompt_number": 39
    },
    {
     "cell_type": "code",
     "collapsed": false,
     "input": [],
     "language": "python",
     "metadata": {},
     "outputs": []
    }
   ],
   "metadata": {}
  }
 ]
}