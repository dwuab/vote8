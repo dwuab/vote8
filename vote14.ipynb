{
 "metadata": {
  "name": "vote14"
 },
 "nbformat": 3,
 "nbformat_minor": 0,
 "worksheets": [
  {
   "cells": [
    {
     "cell_type": "code",
     "collapsed": false,
     "input": [
      "# use your own data directory\n",
      "cd ~/Dropbox/dev/vote14"
     ],
     "language": "python",
     "metadata": {},
     "outputs": [
      {
       "output_type": "stream",
       "stream": "stdout",
       "text": [
        "/Users/wudegang/Dropbox/dev/vote14\n"
       ]
      }
     ],
     "prompt_number": 1
    },
    {
     "cell_type": "code",
     "collapsed": false,
     "input": [
      "from pandas import DataFrame, Series\n",
      "import pandas as pd\n",
      "from statsmodels.distributions.empirical_distribution import ECDF\n",
      "import os"
     ],
     "language": "python",
     "metadata": {},
     "outputs": [],
     "prompt_number": 2
    },
    {
     "cell_type": "code",
     "collapsed": false,
     "input": [
      "ls"
     ],
     "language": "python",
     "metadata": {},
     "outputs": [
      {
       "output_type": "stream",
       "stream": "stdout",
       "text": [
        "\u001b[34mDebug\u001b[m\u001b[m/                              N900_K_900_p_0.330_eta_10_stat.dat  N900_K_900_p_0.520_eta_10_stat.dat\r\n",
        "N900_K_900_p_0.290_eta_10_T3.dat    N900_K_900_p_0.340_eta_10_T3.dat    N900_K_900_p_0.530_eta_10_T3.dat\r\n",
        "N900_K_900_p_0.290_eta_10_stat.dat  N900_K_900_p_0.340_eta_10_stat.dat  N900_K_900_p_0.530_eta_10_stat.dat\r\n",
        "N900_K_900_p_0.310_eta_10_T3.dat    N900_K_900_p_0.490_eta_10_T3.dat    N900_K_900_p_0.540_eta_10_T3.dat\r\n",
        "N900_K_900_p_0.310_eta_10_stat.dat  N900_K_900_p_0.490_eta_10_stat.dat  N900_K_900_p_0.540_eta_10_stat.dat\r\n",
        "N900_K_900_p_0.320_eta_10_T3.dat    N900_K_900_p_0.510_eta_10_T3.dat    vote14.cpp\r\n",
        "N900_K_900_p_0.320_eta_10_stat.dat  N900_K_900_p_0.510_eta_10_stat.dat\r\n",
        "N900_K_900_p_0.330_eta_10_T3.dat    N900_K_900_p_0.520_eta_10_T3.dat\r\n"
       ]
      }
     ],
     "prompt_number": 2
    },
    {
     "cell_type": "code",
     "collapsed": false,
     "input": [
      "df=pd.read_table('N900_K_900_p_0.290_eta_10_T3.dat',header=None)\n",
      "df2=pd.read_table('N900_K_900_p_0.290_eta_10_stat.dat',header=None)"
     ],
     "language": "python",
     "metadata": {},
     "outputs": [],
     "prompt_number": 7
    },
    {
     "cell_type": "code",
     "collapsed": false,
     "input": [
      "ecdf0290=ECDF(np.loadtxt('N900_K_900_p_0.290_eta_10_T3.dat'))"
     ],
     "language": "python",
     "metadata": {},
     "outputs": [],
     "prompt_number": 14
    },
    {
     "cell_type": "code",
     "collapsed": false,
     "input": [
      "x=arange(0,25,0.1)\n",
      "plot(x,ecdf0290(x))"
     ],
     "language": "python",
     "metadata": {},
     "outputs": [
      {
       "output_type": "pyout",
       "prompt_number": 18,
       "text": [
        "[<matplotlib.lines.Line2D at 0x10fdec2d0>]"
       ]
      }
     ],
     "prompt_number": 18
    },
    {
     "cell_type": "code",
     "collapsed": false,
     "input": [
      "stat=np.loadtxt('N900_K_900_p_0.290_eta_10_stat.dat')"
     ],
     "language": "python",
     "metadata": {},
     "outputs": [],
     "prompt_number": 22
    },
    {
     "cell_type": "code",
     "collapsed": false,
     "input": [
      "for i in range(len(stat)):\n",
      "    stat[i,:].sort()"
     ],
     "language": "python",
     "metadata": {},
     "outputs": [],
     "prompt_number": 38
    },
    {
     "cell_type": "code",
     "collapsed": false,
     "input": [
      "pd.read_table?"
     ],
     "language": "python",
     "metadata": {},
     "outputs": [],
     "prompt_number": 5
    },
    {
     "cell_type": "code",
     "collapsed": false,
     "input": [
      "p = 0.3\n",
      "eta = 10\n",
      "os.system('vote14/vote8 %.3f %d' % (p,eta))\n",
      "data = pd.read_table('N900_p_%.3f_eta_%d_stat.dat' % (p,eta), header=None, sep=' ')\n",
      "data.plot()\n",
      "xlabel('MC Time')\n",
      "ylabel('#')"
     ],
     "language": "python",
     "metadata": {},
     "outputs": [
      {
       "ename": "NameError",
       "evalue": "name 'xlable' is not defined",
       "output_type": "pyerr",
       "traceback": [
        "\u001b[0;31m---------------------------------------------------------------------------\u001b[0m\n\u001b[0;31mNameError\u001b[0m                                 Traceback (most recent call last)",
        "\u001b[0;32m<ipython-input-24-0c063e6d0a8e>\u001b[0m in \u001b[0;36m<module>\u001b[0;34m()\u001b[0m\n\u001b[1;32m      4\u001b[0m \u001b[0mdata\u001b[0m \u001b[0;34m=\u001b[0m \u001b[0mpd\u001b[0m\u001b[0;34m.\u001b[0m\u001b[0mread_table\u001b[0m\u001b[0;34m(\u001b[0m\u001b[0;34m'N900_p_%.3f_eta_%d_stat.dat'\u001b[0m \u001b[0;34m%\u001b[0m \u001b[0;34m(\u001b[0m\u001b[0mp\u001b[0m\u001b[0;34m,\u001b[0m\u001b[0meta\u001b[0m\u001b[0;34m)\u001b[0m\u001b[0;34m,\u001b[0m \u001b[0mheader\u001b[0m\u001b[0;34m=\u001b[0m\u001b[0mNone\u001b[0m\u001b[0;34m,\u001b[0m \u001b[0msep\u001b[0m\u001b[0;34m=\u001b[0m\u001b[0;34m' '\u001b[0m\u001b[0;34m)\u001b[0m\u001b[0;34m\u001b[0m\u001b[0m\n\u001b[1;32m      5\u001b[0m \u001b[0mdata\u001b[0m\u001b[0;34m.\u001b[0m\u001b[0mplot\u001b[0m\u001b[0;34m(\u001b[0m\u001b[0;34m)\u001b[0m\u001b[0;34m\u001b[0m\u001b[0m\n\u001b[0;32m----> 6\u001b[0;31m \u001b[0mxlable\u001b[0m\u001b[0;34m(\u001b[0m\u001b[0;34m'MC Time'\u001b[0m\u001b[0;34m)\u001b[0m\u001b[0;34m\u001b[0m\u001b[0m\n\u001b[0m\u001b[1;32m      7\u001b[0m \u001b[0mylabel\u001b[0m\u001b[0;34m(\u001b[0m\u001b[0;34m'#'\u001b[0m\u001b[0;34m)\u001b[0m\u001b[0;34m\u001b[0m\u001b[0m\n",
        "\u001b[0;31mNameError\u001b[0m: name 'xlable' is not defined"
       ]
      }
     ],
     "prompt_number": 24
    },
    {
     "cell_type": "code",
     "collapsed": false,
     "input": [],
     "language": "python",
     "metadata": {},
     "outputs": []
    }
   ],
   "metadata": {}
  }
 ]
}