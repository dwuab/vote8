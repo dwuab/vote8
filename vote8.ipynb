{
 "metadata": {
  "name": "vote8"
 },
 "nbformat": 3,
 "nbformat_minor": 0,
 "worksheets": [
  {
   "cells": [
    {
     "cell_type": "code",
     "collapsed": false,
     "input": [
      "cd ~/Dropbox/data/vote/data8"
     ],
     "language": "python",
     "metadata": {},
     "outputs": [
      {
       "output_type": "stream",
       "stream": "stdout",
       "text": [
        "/Users/wudegang/Dropbox/data/vote/data8\n"
       ]
      }
     ],
     "prompt_number": 12
    },
    {
     "cell_type": "code",
     "collapsed": false,
     "input": [
      "import pandas as pd\n",
      "from pandas import DataFrame,Series\n",
      "from numpy import linspace"
     ],
     "language": "python",
     "metadata": {},
     "outputs": [],
     "prompt_number": 2
    },
    {
     "cell_type": "code",
     "collapsed": false,
     "input": [
      "def get_p_order(N,eta,p_list):\n",
      "    K=N\n",
      "    p_order = {p:0.0 for p in p_list}\n",
      "\n",
      "    for p in p_list:\n",
      "        fname = 'N%d_p_%.3f_eta_%d_m.dat' % (N,p,eta)\n",
      "        data = pd.read_table(fname, header=None)\n",
      "        data.columns = ['m']\n",
      "        tmp = (data['m']<1).value_counts()\n",
      "        if True not in tmp:\n",
      "            p_order[p] = 1.0\n",
      "        elif False not in tmp:\n",
      "            p_order[p] = 0.0\n",
      "        else:\n",
      "            p_order[p] = (1.0*(tmp.sum()-tmp[True])/tmp.sum())\n",
      "            \n",
      "    return p_order"
     ],
     "language": "python",
     "metadata": {},
     "outputs": [],
     "prompt_number": 3
    },
    {
     "cell_type": "heading",
     "level": 2,
     "metadata": {},
     "source": [
      "for large-p region"
     ]
    },
    {
     "cell_type": "code",
     "collapsed": false,
     "input": [
      "# this is for large-p region\n",
      "p_ls_eta10=[0.96,0.97,0.98,0.983,0.985,0.987,0.99,0.995]\n",
      "p_ls_eta20=[0.91,0.92,0.93,0.94,0.95,0.96,0.97,0.98,0.99]\n",
      "p_ls_eta30=[0.85,0.86,0.87,0.88,0.89,0.9,0.91,0.92,0.93,0.94,0.95,0.96,0.97,0.98,0.99]\n",
      "p_ls_eta10_N1200=[0.96,0.97,0.98,0.983,0.985,0.987,0.99,0.995]\n",
      "p_order_eta10 = get_p_order(900,10,p_ls_eta10)\n",
      "p_order_eta20 = get_p_order(900,20,p_ls_eta20)\n",
      "p_order_eta30 = get_p_order(900,30,p_ls_eta30)\n",
      "p_order_eta10_N1200= get_p_order(1200,10,p_ls_eta10_N1200)"
     ],
     "language": "python",
     "metadata": {},
     "outputs": [],
     "prompt_number": 31
    },
    {
     "cell_type": "code",
     "collapsed": false,
     "input": [
      "ax=Series(p_order_eta10).plot(style='bo-',figsize=(10,7),markersize=8)\n",
      "hold(True)\n",
      "Series(p_order_eta20).plot(style='gs-',ax=ax,markersize=8)\n",
      "Series(p_order_eta30).plot(style='rx-',ax=ax,markersize=8)\n",
      "Series(p_order_eta10_N1200).plot(style='md-',ax=ax,markersize=8)\n",
      "plt.legend(['N=900,$\\eta$=10','N=900,$\\eta$=20','N=900,$\\eta$=30','N=1200,$\\eta$=10'],loc='best')\n",
      "plt.xlabel('p',fontsize=16)\n",
      "plt.ylabel('$p_{order}$',fontsize=20)"
     ],
     "language": "python",
     "metadata": {},
     "outputs": [
      {
       "output_type": "pyout",
       "prompt_number": 26,
       "text": [
        "<matplotlib.text.Text at 0x1141c61d0>"
       ]
      }
     ],
     "prompt_number": 26
    },
    {
     "cell_type": "code",
     "collapsed": false,
     "input": [
      "df=DataFrame({'N=900,$\\eta$=10':p_order_eta10,'N=900,$\\eta$=20':p_order_eta20,'N=900,$\\eta$=30':p_order_eta30})\n",
      "ax=df.plot()#style='o-',figsize=(10,7),markersize=10,markerfacecolor='None',markeredgewidth=2#)\n",
      "plt.xlabel('p',fontsize=16)\n",
      "plt.ylabel('$p_{order}$',fontsize=20)\n",
      "# unforunately in this method we cannot control the markers used for individual lines"
     ],
     "language": "python",
     "metadata": {},
     "outputs": [
      {
       "output_type": "pyout",
       "prompt_number": 79,
       "text": [
        "<matplotlib.text.Text at 0x10d236950>"
       ]
      }
     ],
     "prompt_number": 79
    },
    {
     "cell_type": "heading",
     "level": 2,
     "metadata": {},
     "source": [
      "for small-p region"
     ]
    },
    {
     "cell_type": "code",
     "collapsed": false,
     "input": [
      "p_ls_eta10=[.25,.26,.27,.28,.29,.295,.3,.305,.31]\n",
      "p_ls_eta20=[.25,.26,.27,.28,.29,.3,.305,.31,.315,.32,.33]\n",
      "p_ls_eta30=[.25,.26,.27,.28,.29,.3,.31,.32,.325,.33,.335]\n",
      "p_ls_eta10_N1200=[.25,.26,.27,.28,.29,.3,.305,.31]\n",
      "p_order_eta10 = get_p_order(900,10,p_ls_eta10)\n",
      "p_order_eta20 = get_p_order(900,20,p_ls_eta20)\n",
      "p_order_eta30 = get_p_order(900,30,p_ls_eta30)\n",
      "p_order_eta10_N1200= get_p_order(1200,10,p_ls_eta10_N1200)"
     ],
     "language": "python",
     "metadata": {},
     "outputs": [],
     "prompt_number": 4
    },
    {
     "cell_type": "code",
     "collapsed": false,
     "input": [
      "ax=Series(p_order_eta10).plot(style='bo-',figsize=(10,7),markersize=8)\n",
      "hold(True)\n",
      "Series(p_order_eta20).plot(style='gs-',ax=ax,markersize=8)\n",
      "Series(p_order_eta30).plot(style='rx-',ax=ax,markersize=8)\n",
      "Series(p_order_eta10_N1200).plot(style='md-',ax=ax,markersize=8)\n",
      "plt.legend(['N=900,$\\eta$=10','N=900,$\\eta$=20','N=900,$\\eta$=30','N=1200,$\\eta$=10'],loc='best')\n",
      "plt.xlabel('$p$',fontsize=16)\n",
      "plt.ylabel('$p_{\\mathrm{order}}$',fontsize=20)\n",
      "plt.subplots_adjust(left=0.1, right=0.95, top=0.9, bottom=0.1)"
     ],
     "language": "python",
     "metadata": {},
     "outputs": [],
     "prompt_number": 11
    },
    {
     "cell_type": "heading",
     "level": 2,
     "metadata": {},
     "source": [
      "For experiments"
     ]
    },
    {
     "cell_type": "code",
     "collapsed": false,
     "input": [
      "ax.lines"
     ],
     "language": "python",
     "metadata": {},
     "outputs": [
      {
       "output_type": "pyout",
       "prompt_number": 81,
       "text": [
        "[<matplotlib.lines.Line2D at 0x10d253690>,\n",
        " <matplotlib.lines.Line2D at 0x10d253bd0>,\n",
        " <matplotlib.lines.Line2D at 0x10d2570d0>]"
       ]
      }
     ],
     "prompt_number": 81
    },
    {
     "cell_type": "code",
     "collapsed": false,
     "input": [
      "fig=figure()"
     ],
     "language": "python",
     "metadata": {},
     "outputs": [],
     "prompt_number": 60
    },
    {
     "cell_type": "code",
     "collapsed": false,
     "input": [
      "ax=fig.gca()"
     ],
     "language": "python",
     "metadata": {},
     "outputs": [],
     "prompt_number": 61
    },
    {
     "cell_type": "code",
     "collapsed": false,
     "input": [],
     "language": "python",
     "metadata": {},
     "outputs": []
    }
   ],
   "metadata": {}
  }
 ]
}