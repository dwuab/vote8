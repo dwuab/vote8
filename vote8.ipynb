{
 "metadata": {
  "name": "vote8"
 },
 "nbformat": 3,
 "nbformat_minor": 0,
 "worksheets": [
  {
   "cells": [
    {
     "cell_type": "code",
     "collapsed": false,
     "input": [
      "# routine\n",
      "%cd ~/Dropbox/dev/vote8\n",
      "import pandas as pd\n",
      "from pandas import DataFrame,Series"
     ],
     "language": "python",
     "metadata": {},
     "outputs": [
      {
       "output_type": "stream",
       "stream": "stdout",
       "text": [
        "/Users/wudegang/Dropbox/dev/vote8\n"
       ]
      }
     ],
     "prompt_number": 2
    },
    {
     "cell_type": "code",
     "collapsed": false,
     "input": [
      "%run phase_transition.py"
     ],
     "language": "python",
     "metadata": {},
     "outputs": [],
     "prompt_number": 31
    },
    {
     "cell_type": "code",
     "collapsed": false,
     "input": [
      "p_order"
     ],
     "language": "python",
     "metadata": {},
     "outputs": [
      {
       "output_type": "pyout",
       "prompt_number": 32,
       "text": [
        "{0.85: 1.0,\n",
        " 0.86: 0.999,\n",
        " 0.87: 0.99399999999999999,\n",
        " 0.88: 0.96499999999999997,\n",
        " 0.89: 0.90100000000000002,\n",
        " 0.9: 0.77400000000000002,\n",
        " 0.91: 0.59599999999999997,\n",
        " 0.92: 0.36699999999999999,\n",
        " 0.93: 0.17199999999999999,\n",
        " 0.94: 0.0060000000000000001,\n",
        " 0.95: 0.0,\n",
        " 0.96: 0.0,\n",
        " 0.97: 0.0,\n",
        " 0.98: 0.0,\n",
        " 0.99: 0.0}"
       ]
      }
     ],
     "prompt_number": 32
    },
    {
     "cell_type": "code",
     "collapsed": false,
     "input": [
      "Series(p_order).plot(style='rx-')"
     ],
     "language": "python",
     "metadata": {},
     "outputs": [
      {
       "output_type": "pyout",
       "prompt_number": 33,
       "text": [
        "<matplotlib.axes.AxesSubplot at 0x10520e690>"
       ]
      }
     ],
     "prompt_number": 33
    },
    {
     "cell_type": "code",
     "collapsed": false,
     "input": [
      "legend((lines[1],lines[3],lines[5]),['N=900, $\\eta$=10','N=900, $\\eta$=20','N=900, $\\eta$=30'],loc=3)\n",
      "#legend()\n",
      "xlabel('p',fontsize=16)\n",
      "ylabel('$p_{order}$',fontsize=18)"
     ],
     "language": "python",
     "metadata": {},
     "outputs": [
      {
       "output_type": "pyout",
       "prompt_number": 73,
       "text": [
        "<matplotlib.text.Text at 0x1051f0f50>"
       ]
      }
     ],
     "prompt_number": 73
    },
    {
     "cell_type": "code",
     "collapsed": false,
     "input": [
      "for tick in a.xaxis.get_major_ticks():\n",
      "    tick.label.set_fontsize(16)\n",
      "for tick in a.yaxis.get_major_ticks():\n",
      "    tick.label.set_fontsize(16)"
     ],
     "language": "python",
     "metadata": {},
     "outputs": [],
     "prompt_number": 72
    },
    {
     "cell_type": "code",
     "collapsed": false,
     "input": [
      "data = pd.read_table('N900_K_900_p_0.250_eta_80_m.dat', header=None)"
     ],
     "language": "python",
     "metadata": {},
     "outputs": [],
     "prompt_number": 7
    },
    {
     "cell_type": "code",
     "collapsed": false,
     "input": [
      "(data['X.1']<1).value_counts()[False]"
     ],
     "language": "python",
     "metadata": {},
     "outputs": [
      {
       "output_type": "pyout",
       "prompt_number": 15,
       "text": [
        "1000"
       ]
      }
     ],
     "prompt_number": 15
    },
    {
     "cell_type": "code",
     "collapsed": false,
     "input": [
      "df=DataFrame({'N=900,$\\eta$=10':p_order})\n",
      "df.plot(style='o-',figsize=(10,7))\n",
      "plt.xlabel('p',fontsize=16)\n",
      "plt.ylabel('$p_{order}$',fontsize=24)"
     ],
     "language": "python",
     "metadata": {},
     "outputs": [
      {
       "output_type": "pyout",
       "prompt_number": 25,
       "text": [
        "<matplotlib.text.Text at 0x1116cbd90>"
       ]
      },
      {
       "output_type": "display_data",
       "png": "[encoded data removed]"
      }
     ],
     "prompt_number": 25
    },
    {
     "cell_type": "code",
     "collapsed": false,
     "input": [
      "legend?"
     ],
     "language": "python",
     "metadata": {},
     "outputs": [],
     "prompt_number": 66
    },
    {
     "cell_type": "code",
     "collapsed": false,
     "input": [
      "Series(p_order).plot"
     ],
     "language": "python",
     "metadata": {},
     "outputs": []
    },
    {
     "cell_type": "code",
     "collapsed": false,
     "input": [
      "df=DataFrame({'N=900,$\\eta$=80':p_order})\n",
      "df.plot(style='o-',figsize=(10,7))\n",
      "plt.xlabel('p',fontsize=16)\n",
      "plt.ylabel('$p_{order}$',fontsize=24)"
     ],
     "language": "python",
     "metadata": {},
     "outputs": [
      {
       "output_type": "pyout",
       "prompt_number": 22,
       "text": [
        "<matplotlib.text.Text at 0x10d2a0ed0>"
       ]
      }
     ],
     "prompt_number": 22
    },
    {
     "cell_type": "code",
     "collapsed": false,
     "input": [
      "a=gca()"
     ],
     "language": "python",
     "metadata": {},
     "outputs": [],
     "prompt_number": 56
    },
    {
     "cell_type": "code",
     "collapsed": false,
     "input": [
      "lines=a.get_lines()"
     ],
     "language": "python",
     "metadata": {},
     "outputs": [],
     "prompt_number": 62
    },
    {
     "cell_type": "code",
     "collapsed": false,
     "input": [
      "lines[0]"
     ],
     "language": "python",
     "metadata": {},
     "outputs": [
      {
       "output_type": "pyout",
       "prompt_number": 65,
       "text": [
        "<matplotlib.lines.Line2D at 0x105231210>"
       ]
      }
     ],
     "prompt_number": 65
    },
    {
     "cell_type": "code",
     "collapsed": false,
     "input": [],
     "language": "python",
     "metadata": {},
     "outputs": []
    }
   ],
   "metadata": {}
  }
 ]
}